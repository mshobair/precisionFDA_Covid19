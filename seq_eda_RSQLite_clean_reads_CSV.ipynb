{
 "cells": [
  {
   "cell_type": "markdown",
   "metadata": {},
   "source": [
    "# This is our analysis workflow for the precisionFDA covid-19 challenge"
   ]
  },
  {
   "cell_type": "markdown",
   "metadata": {},
   "source": [
    "The workflow has multiple components that can be modularized:\n",
    "\n",
    "# Data Management [bash/sqlite]\n",
    " - Access the input data (flat files)\n",
    " - Data modeling (SQLite)\n",
    " output: SQLite database\n",
    " Test police: space, time?\n",
    "\n",
    "# ETL\n",
    " - Input: SQLite db & user query [ python notebook ] MS constrained query\n",
    " (data transfer from python to R kernel using temp SQLite database)\n",
    " (exfiltrate usable data)\n",
    "\n",
    "\n",
    "\n",
    "# Data Analysis [R]\n",
    "\n",
    "\n",
    "  - Data Cleaning\n",
    "  - Data Selection\n",
    "\n",
    "\n",
    "# Data Ouput"
   ]
  },
  {
   "cell_type": "markdown",
   "metadata": {},
   "source": [
    "# Input Data "
   ]
  },
  {
   "cell_type": "markdown",
   "metadata": {},
   "source": [
    "Data loading"
   ]
  },
  {
   "cell_type": "markdown",
   "metadata": {},
   "source": [
    "# Getting data "
   ]
  },
  {
   "cell_type": "markdown",
   "metadata": {},
   "source": [
    "# Data Cleaning"
   ]
  },
  {
   "cell_type": "code",
   "execution_count": 4,
   "metadata": {},
   "outputs": [
    {
     "data": {
      "text/html": [
       "'/home/fabulous_pharoh/Documents/Projects/covid_challenge/repo_tests/precisionFDA_Covid19'"
      ],
      "text/latex": [
       "'/home/fabulous\\_pharoh/Documents/Projects/covid\\_challenge/repo\\_tests/precisionFDA\\_Covid19'"
      ],
      "text/markdown": [
       "'/home/fabulous_pharoh/Documents/Projects/covid_challenge/repo_tests/precisionFDA_Covid19'"
      ],
      "text/plain": [
       "[1] \"/home/fabulous_pharoh/Documents/Projects/covid_challenge/repo_tests/precisionFDA_Covid19\""
      ]
     },
     "metadata": {},
     "output_type": "display_data"
    }
   ],
   "source": [
    "getwd()"
   ]
  },
  {
   "cell_type": "code",
   "execution_count": 7,
   "metadata": {},
   "outputs": [],
   "source": [
    "library(reticulate)\n",
    "use_virtualenv(\"/home/fabulous_pharoh/.local/share/virtualenvs/precisionFDA_Covid19-Fxx2Sb2x/\",\n",
    "              required = TRUE)\n"
   ]
  },
  {
   "cell_type": "code",
   "execution_count": 8,
   "metadata": {},
   "outputs": [],
   "source": [
    "library(RSQLite)"
   ]
  },
  {
   "cell_type": "code",
   "execution_count": 10,
   "metadata": {},
   "outputs": [],
   "source": [
    "# connection to seqtable\n",
    "seq_db_path = 'dump.db'\n",
    "conn <- dbConnect(RSQLite::SQLite(), seq_db_path)"
   ]
  },
  {
   "cell_type": "code",
   "execution_count": 18,
   "metadata": {},
   "outputs": [],
   "source": [
    "# function that takes the SQLite database connection, a query selecting columns and\n",
    "# user-identified rows\n",
    "# the rows are found by specifying first and last row\n",
    "getdfRows <- function(conn, query_rows){\n",
    "    # connection to queried table\n",
    "    seq_db_path = 'dump.db'\n",
    "    conn <- dbConnect(RSQLite::SQLite(), seq_db_path)\n",
    "    query_rows = 'SELECT * FROM df_analysis'\n",
    "    df = dbGetQuery(conn,query_rows)\n",
    "    return(df)\n",
    "}"
   ]
  },
  {
   "cell_type": "markdown",
   "metadata": {},
   "source": [
    "Generate dataframe instance"
   ]
  },
  {
   "cell_type": "code",
   "execution_count": 19,
   "metadata": {},
   "outputs": [],
   "source": [
    "df1 = getdfRows()"
   ]
  },
  {
   "cell_type": "code",
   "execution_count": 33,
   "metadata": {},
   "outputs": [],
   "source": [
    "#df1 = getdfRows()"
   ]
  },
  {
   "cell_type": "markdown",
   "metadata": {},
   "source": [
    "Clean data"
   ]
  },
  {
   "cell_type": "code",
   "execution_count": 27,
   "metadata": {},
   "outputs": [],
   "source": [
    "# remove blank sequences\n",
    "clean_df <- function(df){\n",
    "      \n",
    "    cleaned_df <- df[\n",
    "        df$junction_aa!=\"\", ][\n",
    "        !grepl(pattern = \"\\\\*\",df$junction_aa), ]\n",
    "\n",
    "    return(cleaned_df)\n",
    "             }"
   ]
  },
  {
   "cell_type": "code",
   "execution_count": 29,
   "metadata": {},
   "outputs": [],
   "source": [
    "df_cleaned = clean_df(df1)"
   ]
  },
  {
   "cell_type": "code",
   "execution_count": null,
   "metadata": {},
   "outputs": [],
   "source": [
    "#df_cleaned = clean_df(df1)"
   ]
  },
  {
   "cell_type": "markdown",
   "metadata": {},
   "source": [
    "Select data"
   ]
  },
  {
   "cell_type": "code",
   "execution_count": 30,
   "metadata": {},
   "outputs": [],
   "source": [
    "# subset by disease_stage; acute or \"Recovered\" or \"Acute\"\n",
    "# input cleaned_df\n",
    "fn_disease_stage <- function(cleaned_df, sel_disease_stage){\n",
    "    \n",
    "     \n",
    "          #  input : cleaned_df dataframe, disease_stage character\n",
    "          #  ouput : \"disease_stage\" selected dataframe\n",
    "   \n",
    "    \n",
    "    df_disease_stage <- cleaned_df[disease_stage == sel_disease_stage, ]\n",
    "    \n",
    "    return(df_disease_stage)\n",
    "}"
   ]
  },
  {
   "cell_type": "code",
   "execution_count": 32,
   "metadata": {},
   "outputs": [],
   "source": [
    "df_selected = clean_df(df1_cleaned)"
   ]
  },
  {
   "cell_type": "markdown",
   "metadata": {},
   "source": [
    "#df_selected = clean_df(df1_cleaned)\n",
    "#"
   ]
  },
  {
   "cell_type": "markdown",
   "metadata": {},
   "source": [
    "Generate junction_aa (information content) of specific length"
   ]
  },
  {
   "cell_type": "markdown",
   "metadata": {},
   "source": [
    "Generate junction_aa"
   ]
  },
  {
   "cell_type": "code",
   "execution_count": 44,
   "metadata": {},
   "outputs": [],
   "source": [
    "# get junction_aa column from selected dataframe\n",
    "select_junction_aa <- function(selected_df){\n",
    "           \n",
    "        #    input : \"junction_aa\" cleaned dataframe\n",
    "        #    ouput : junction_aa\n",
    "    seq <- selected_df$junction_aa  \n",
    "    }"
   ]
  },
  {
   "cell_type": "code",
   "execution_count": 48,
   "metadata": {},
   "outputs": [],
   "source": [
    "junction_aa <- select_junction_aa(df_selected)"
   ]
  },
  {
   "cell_type": "markdown",
   "metadata": {},
   "source": [
    "Select subset of junction_aa with specific length"
   ]
  },
  {
   "cell_type": "code",
   "execution_count": 53,
   "metadata": {},
   "outputs": [],
   "source": [
    "# subset junction_aa column of specific length\n",
    "select_len <- function(junction_aa, len){\n",
    "           \n",
    "        #    input : \"junction_aa\" cleaned sequence, len length\n",
    "        #    ouput : junction_aa with specific length\n",
    "    seq <- junction_aa[nchar(junction_aa) == len] \n",
    "    return(seq)\n",
    "    }"
   ]
  },
  {
   "cell_type": "code",
   "execution_count": 54,
   "metadata": {},
   "outputs": [],
   "source": [
    "seq_len <- select_len(junction_aa, 15)"
   ]
  },
  {
   "cell_type": "code",
   "execution_count": 58,
   "metadata": {},
   "outputs": [
    {
     "data": {
      "text/html": [
       "15"
      ],
      "text/latex": [
       "15"
      ],
      "text/markdown": [
       "15"
      ],
      "text/plain": [
       "[1] 15"
      ]
     },
     "metadata": {},
     "output_type": "display_data"
    }
   ],
   "source": [
    "unique(nchar(seq_len))"
   ]
  },
  {
   "cell_type": "markdown",
   "metadata": {},
   "source": [
    "# Data Analysis"
   ]
  },
  {
   "cell_type": "code",
   "execution_count": 59,
   "metadata": {},
   "outputs": [],
   "source": [
    "library(universalmotif)"
   ]
  },
  {
   "cell_type": "markdown",
   "metadata": {},
   "source": [
    "Visualize junction_aa as sequence motif"
   ]
  },
  {
   "cell_type": "code",
   "execution_count": 63,
   "metadata": {},
   "outputs": [],
   "source": [
    "visualize_motif <- function(seq_len ){\n",
    "    # input sequence of a specific length\n",
    "    # ouput motif image\n",
    "    view_motifs(\n",
    "        convert_type(\n",
    "            create_motif(seq_len, alphabet = \"AA\")\n",
    "         , \"PCM\"))\n",
    "    }"
   ]
  },
  {
   "cell_type": "code",
   "execution_count": 64,
   "metadata": {},
   "outputs": [
    {
     "data": {
      "image/png": "[encoded data removed]",
      "text/plain": [
       "plot without title"
      ]
     },
     "metadata": {
      "image/png": {
       "height": 420,
       "width": 420
      }
     },
     "output_type": "display_data"
    }
   ],
   "source": [
    "visualize_motif(seq_len)"
   ]
  },
  {
   "cell_type": "markdown",
   "metadata": {},
   "source": [
    "#Notes\n",
    "For all\n",
    "Pos 1-4 ; conserved\n",
    "Pos 13: conserved\n",
    "# Pos\n",
    "11-13 variable\n",
    ": quantitative metric averaged by group to confirm null-hypothesis"
   ]
  },
  {
   "cell_type": "code",
   "execution_count": 65,
   "metadata": {},
   "outputs": [],
   "source": [
    "#Iwish#library(motifStack)"
   ]
  }
 ],
 "metadata": {
  "kernelspec": {
   "display_name": "R",
   "language": "R",
   "name": "ir"
  },
  "language_info": {
   "codemirror_mode": "r",
   "file_extension": ".r",
   "mimetype": "text/x-r-source",
   "name": "R",
   "pygments_lexer": "r",
   "version": "3.6.3"
  }
 },
 "nbformat": 4,
 "nbformat_minor": 4
}
