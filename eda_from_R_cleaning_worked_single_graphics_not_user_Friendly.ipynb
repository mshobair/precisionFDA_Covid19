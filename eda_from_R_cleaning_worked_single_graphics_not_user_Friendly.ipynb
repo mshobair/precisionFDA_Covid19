{
 "cells": [
  {
   "cell_type": "code",
   "execution_count": 1,
   "id": "changing-replication",
   "metadata": {},
   "outputs": [],
   "source": [
    "#import ipynb\n",
    "#from src import sqlite_df_fn \n",
    "\n",
    "from ipynb.fs.defs.sqlite_df_fn3 import *\n",
    "import rpy2.rinterface\n",
    "%load_ext rpy2.ipython"
   ]
  },
  {
   "cell_type": "markdown",
   "id": "threaded-verse",
   "metadata": {},
   "source": [
    "# Quering data"
   ]
  },
  {
   "cell_type": "markdown",
   "id": "authorized-trial",
   "metadata": {},
   "source": [
    "Obtain two groups to compare "
   ]
  },
  {
   "cell_type": "code",
   "execution_count": 2,
   "id": "consolidated-feeling",
   "metadata": {},
   "outputs": [],
   "source": [
    "df = getdata(query_str(), \"Recovered\", 50)"
   ]
  },
  {
   "cell_type": "markdown",
   "id": "adaptive-decrease",
   "metadata": {},
   "source": [
    "# Data Cleaning"
   ]
  },
  {
   "cell_type": "markdown",
   "id": "operational-tomato",
   "metadata": {},
   "source": [
    "Loading R libraries"
   ]
  },
  {
   "cell_type": "code",
   "execution_count": 3,
   "id": "adjusted-spirituality",
   "metadata": {},
   "outputs": [
    {
     "name": "stderr",
     "output_type": "stream",
     "text": [
      "R[write to console]: data.table 1.13.6 using 2 threads (see ?getDTthreads).  Latest news: r-datatable.com\n",
      "\n",
      "R[write to console]: Registered S3 method overwritten by 'treeio':\n",
      "  method     from\n",
      "  root.phylo ape \n",
      "\n",
      "R[write to console]: Loading required package: grImport2\n",
      "\n",
      "R[write to console]: Loading required package: grid\n",
      "\n",
      "R[write to console]: Loading required package: MotIV\n",
      "\n",
      "R[write to console]: Loading required package: BiocGenerics\n",
      "\n",
      "R[write to console]: Loading required package: parallel\n",
      "\n",
      "R[write to console]: \n",
      "Attaching package: ‘BiocGenerics’\n",
      "\n",
      "\n",
      "R[write to console]: The following objects are masked from ‘package:parallel’:\n",
      "\n",
      "    clusterApply, clusterApplyLB, clusterCall, clusterEvalQ,\n",
      "    clusterExport, clusterMap, parApply, parCapply, parLapply,\n",
      "    parLapplyLB, parRapply, parSapply, parSapplyLB\n",
      "\n",
      "\n",
      "R[write to console]: The following objects are masked from ‘package:stats’:\n",
      "\n",
      "    IQR, mad, sd, var, xtabs\n",
      "\n",
      "\n",
      "R[write to console]: The following objects are masked from ‘package:base’:\n",
      "\n",
      "    anyDuplicated, append, as.data.frame, basename, cbind, colnames,\n",
      "    dirname, do.call, duplicated, eval, evalq, Filter, Find, get, grep,\n",
      "    grepl, intersect, is.unsorted, lapply, Map, mapply, match, mget,\n",
      "    order, paste, pmax, pmax.int, pmin, pmin.int, Position, rank,\n",
      "    rbind, Reduce, rownames, sapply, setdiff, sort, table, tapply,\n",
      "    union, unique, unsplit, which, which.max, which.min\n",
      "\n",
      "\n",
      "R[write to console]: Loading required package: GenomicRanges\n",
      "\n",
      "R[write to console]: Loading required package: stats4\n",
      "\n",
      "R[write to console]: Loading required package: S4Vectors\n",
      "\n",
      "R[write to console]: \n",
      "Attaching package: ‘S4Vectors’\n",
      "\n",
      "\n",
      "R[write to console]: The following objects are masked from ‘package:data.table’:\n",
      "\n",
      "    first, second\n",
      "\n",
      "\n",
      "R[write to console]: The following object is masked from ‘package:base’:\n",
      "\n",
      "    expand.grid\n",
      "\n",
      "\n",
      "R[write to console]: Loading required package: IRanges\n",
      "\n",
      "R[write to console]: \n",
      "Attaching package: ‘IRanges’\n",
      "\n",
      "\n",
      "R[write to console]: The following object is masked from ‘package:data.table’:\n",
      "\n",
      "    shift\n",
      "\n",
      "\n",
      "R[write to console]: Loading required package: GenomeInfoDb\n",
      "\n",
      "R[write to console]: \n",
      "Attaching package: ‘MotIV’\n",
      "\n",
      "\n",
      "R[write to console]: The following object is masked from ‘package:stats’:\n",
      "\n",
      "    filter\n",
      "\n",
      "\n",
      "R[write to console]: Loading required package: ade4\n",
      "\n",
      "R[write to console]: \n",
      "Attaching package: ‘ade4’\n",
      "\n",
      "\n",
      "R[write to console]: The following object is masked from ‘package:GenomicRanges’:\n",
      "\n",
      "    score\n",
      "\n",
      "\n",
      "R[write to console]: The following object is masked from ‘package:BiocGenerics’:\n",
      "\n",
      "    score\n",
      "\n",
      "\n",
      "R[write to console]: Loading required package: Biostrings\n",
      "\n",
      "R[write to console]: Loading required package: XVector\n",
      "\n",
      "R[write to console]: \n",
      "Attaching package: ‘Biostrings’\n",
      "\n",
      "\n",
      "R[write to console]: The following object is masked from ‘package:base’:\n",
      "\n",
      "    strsplit\n",
      "\n",
      "\n"
     ]
    }
   ],
   "source": [
    "%%R\n",
    "library(data.table)\n",
    "library(universalmotif)\n",
    "library(motifStack)\n",
    "library(yaml)"
   ]
  },
  {
   "cell_type": "code",
   "execution_count": 4,
   "id": "formed-century",
   "metadata": {},
   "outputs": [],
   "source": [
    "%%R -i df\n",
    "library(universalmotif)\n",
    "setDT(df)# data frame  to data table\n",
    "# remove blank sequences\n",
    "dt_clean <- df[junction_aa!=\"\"]\n",
    "#remove rows with *-containing junction_aa\n",
    "seq_meta_dt_1_clean_clean <- dt_clean[!grepl(pattern = \"\\\\*\",dt_clean$junction_aa),]\n",
    "# Subset rows with the mode length of the junction_aa sequence\n",
    "#function\n",
    "seq_length <- function(dt_disease_stage,length){\n",
    "seq <- seq_meta_dt_1_clean_clean$junction_aa[\n",
    "    nchar(seq_meta_dt_1_clean_clean$junction_aa) == length]\n",
    "    return(seq)\n",
    "    }\n",
    "#nchar(seq_meta_dt_1_clean_clean[1]$junction_aa)\n",
    "#nchar(seq_meta_dt_1_clean_clean$junction_aa#[1])\n",
    "seq <- seq_length(seq_meta_dt_1_clean_clean, 15)\n"
   ]
  },
  {
   "cell_type": "markdown",
   "id": "collect-means",
   "metadata": {},
   "source": [
    "# Junction_aa motif analysis"
   ]
  },
  {
   "cell_type": "markdown",
   "id": "baking-globe",
   "metadata": {},
   "source": [
    "select sequence length for generating motif"
   ]
  },
  {
   "cell_type": "code",
   "execution_count": 5,
   "id": "sublime-pierce",
   "metadata": {},
   "outputs": [],
   "source": [
    "%%R\n",
    "seq <- seq_length(seq_meta_dt_1_clean_clean, 15)"
   ]
  },
  {
   "cell_type": "markdown",
   "id": "narrative-representation",
   "metadata": {},
   "source": [
    "Create motif using universal motif and write to temp file"
   ]
  },
  {
   "cell_type": "code",
   "execution_count": 6,
   "id": "careful-friend",
   "metadata": {},
   "outputs": [],
   "source": [
    "%%R\n",
    "# create motif using universalmotif\n",
    "motif1 <- create_motif(seq, alphabet = \"AA\")\n",
    "PCM = convert_type(motif1, \"PCM\")\n",
    "# transform motif to matrix written \n",
    "# to temp file to read using motifStack for visualziation \n",
    "write_matrix(PCM, 'pcm0', overwrite = TRUE, rownames = TRUE, header = FALSE)\n",
    "write_motifs(motif1, 'pcm0_motif', overwrite = TRUE)"
   ]
  },
  {
   "cell_type": "markdown",
   "id": "impressive-leadership",
   "metadata": {},
   "source": [
    "Load motif and reformat"
   ]
  },
  {
   "cell_type": "code",
   "execution_count": 7,
   "id": "aggregate-longitude",
   "metadata": {},
   "outputs": [],
   "source": [
    "%%R\n",
    "library(yaml)\n",
    "motif_con <- read_yaml('motif13')[8]\n",
    "pcm <- read.table(\"pcm0\", header = FALSE, row.names = 1)\n",
    "motif_con <- read_yaml('pcm0_motif')[8]\n",
    "names(pcm) <- strsplit(motif_con[[1]], split = \"\")[[1]]\n",
    "pcm_mat = as.matrix(pcm)"
   ]
  },
  {
   "cell_type": "markdown",
   "id": "breathing-rouge",
   "metadata": {},
   "source": [
    "Visualize motif with MotifStack"
   ]
  },
  {
   "cell_type": "code",
   "execution_count": 8,
   "id": "million-particular",
   "metadata": {},
   "outputs": [
    {
     "data": {
      "image/png": "[encoded data removed]"
     },
     "metadata": {},
     "output_type": "display_data"
    }
   ],
   "source": [
    "%%R \n",
    "\n",
    "motif<-new(\"pcm\", mat=pcm_mat, name=\"CAP\", \n",
    "            color=colorset(alphabet=\"AA\",colorScheme=\"chemistry\"))\n",
    "#pfm <- pcm2pfm()\n",
    "plot(motif)\n"
   ]
  },
  {
   "cell_type": "markdown",
   "id": "automated-speaking",
   "metadata": {},
   "source": [
    "Visualize multiple motifs from different clinical groups"
   ]
  },
  {
   "cell_type": "code",
   "execution_count": 9,
   "id": "affiliated-patent",
   "metadata": {},
   "outputs": [
    {
     "data": {
      "image/png": "[encoded data removed]"
     },
     "metadata": {},
     "output_type": "display_data"
    }
   ],
   "source": [
    "%%R\n",
    "\n",
    "markerRect <- new(\"marker\", type=\"rect\", start=6, stop=7, gp=gpar(lty=2, fill=NA, col=\"orange\"))\n",
    "markerLine <- new(\"marker\", type=\"line\", start=3, stop=5, gp=gpar(lwd=2, col=\"red\"))\n",
    "markerText <- new(\"marker\", type=\"text\", start=1, label=\"*\", gp=gpar(cex=2, col=\"red\"))\n",
    "motif <- new(\"pcm\", mat=pcm_mat, name=\"bin_SOLEXA\", \n",
    "             markers=c(markerRect, markerLine, markerText))\n",
    "pfm <- pcm2pfm(motif)\n",
    "df <- data.frame(xmin=c(.25, .25), ymin=c(.25, .75), xmax=c(.75, .75), ymax=c(.5, 1), \n",
    "                 fontfamily=c(\"Helvetica\", \"mono,Courier\"), fontface=c(2, 1))\n",
    "df$motif <- list(pfm, pfm)\n",
    "\n",
    "library(ggplot2)\n",
    "\n",
    "ggplot(df, aes(xmin=xmin, ymin=ymin, xmax=xmax, ymax=ymax, motif=motif, \n",
    "               fontfamily=fontfamily, fontface=fontface)) + \n",
    "    geom_motif() + theme_bw() + ylim(0, 1) + xlim(0, 1)\n",
    "\n"
   ]
  }
 ],
 "metadata": {
  "kernelspec": {
   "display_name": "Python 3",
   "language": "python",
   "name": "python3"
  },
  "language_info": {
   "codemirror_mode": {
    "name": "ipython",
    "version": 3
   },
   "file_extension": ".py",
   "mimetype": "text/x-python",
   "name": "python",
   "nbconvert_exporter": "python",
   "pygments_lexer": "ipython3",
   "version": "3.8.5"
  }
 },
 "nbformat": 4,
 "nbformat_minor": 5
}
