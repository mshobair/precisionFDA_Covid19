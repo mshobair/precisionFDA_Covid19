{
 "cells": [
  {
   "cell_type": "markdown",
   "id": "removable-corruption",
   "metadata": {},
   "source": [
    "This notebook :\n",
    "- connects to SQLite database -\n",
    "- using function , get_data, generates a dataframe by quering SQLite database using filtering constraints.\n",
    "\n",
    "The function can be called from the data_analysis.ipynb notebook to perform exploratory data analysis.\n",
    "\n",
    "#The dataframe may also be piped to the dataoutput of this notebook also "
   ]
  },
  {
   "cell_type": "code",
   "execution_count": 14,
   "id": "ordered-tuesday",
   "metadata": {},
   "outputs": [],
   "source": [
    "# load sqlite library\n",
    "import sqlite3\n",
    "import os\n",
    "import pandas as pd\n"
   ]
  },
  {
   "cell_type": "code",
   "execution_count": null,
   "id": "employed-smooth",
   "metadata": {},
   "outputs": [],
   "source": []
  },
  {
   "cell_type": "code",
   "execution_count": 6,
   "id": "noticed-nashville",
   "metadata": {},
   "outputs": [],
   "source": [
    "def connect():\n",
    "    '''function to return SQLite connection\n",
    "    '''\n",
    "    return(sqlite3.connect('/home/teamcovid/Documents/Projects/testing/etl/test.db') )# create connection object representing database)"
   ]
  },
  {
   "cell_type": "code",
   "execution_count": 11,
   "id": "swiss-dominant",
   "metadata": {},
   "outputs": [],
   "source": [
    "# Query selecting xxx cols\n",
    "# filtering col disease_stage\n",
    "# and number of rows\n",
    "# make as a function with generalizable WHERE clause\n",
    "def query_str():\n",
    "    \n",
    " \n",
    "    \n",
    "    ''' function takes input: \n",
    "   \n",
    "    '''\n",
    "\n",
    "    query = '''SELECT sequence_id, junction_aa, junction_aa_length,\\n\n",
    "    seqtable.sample_processing_id, metadata_table.subject_id, metadata_table.study_id, metadata_table.sex, \\n\n",
    "    metadata_table.disease_diagnosis, metadata_table.disease_stage, metadata_table.intervention \\n\n",
    "    FROM seqtable \\n\n",
    "    INNER JOIN metadata_table on metadata_table.sample_processing_id = seqtable.sample_processing_id \\n\n",
    "    WHERE disease_stage = (?) limit (?)'''\n",
    "    \n",
    "    return(query)"
   ]
  },
  {
   "cell_type": "code",
   "execution_count": 7,
   "id": "hearing-playback",
   "metadata": {},
   "outputs": [],
   "source": [
    "# create pandas dataframe from the database\n",
    "# make place holder for column name and number of records\n",
    "def getdata( query, disease_stage, num_rows ):\n",
    "    ''' function takes input: \n",
    "                            query : SQL query,\n",
    "                            and two binding parameters in query string: disease_stage, num_rows   \n",
    "    '''\n",
    "    query = '''SELECT sequence_id, junction_aa, junction_aa_length,\\n\n",
    "    seqtable.sample_processing_id, metadata_table.subject_id, metadata_table.study_id, metadata_table.sex, \\n\n",
    "    metadata_table.disease_diagnosis, metadata_table.disease_stage, metadata_table.intervention \\n\n",
    "    FROM seqtable \\n\n",
    "    INNER JOIN metadata_table on metadata_table.sample_processing_id = seqtable.sample_processing_id \\n\n",
    "    WHERE disease_stage = (?) limit (?)'''\n",
    "    df = pd.read_sql_query(query,\n",
    "                           connect(),\n",
    "                           params = (disease_stage, num_rows),)\n",
    "    return(df)"
   ]
  },
  {
   "cell_type": "code",
   "execution_count": 15,
   "id": "basic-insulin",
   "metadata": {},
   "outputs": [],
   "source": [
    "df = getdata(query_str(), \"Recovered\", 10)"
   ]
  },
  {
   "cell_type": "code",
   "execution_count": null,
   "id": "incredible-democracy",
   "metadata": {},
   "outputs": [],
   "source": []
  }
 ],
 "metadata": {
  "kernelspec": {
   "display_name": "Python 3",
   "language": "python",
   "name": "python3"
  },
  "language_info": {
   "codemirror_mode": {
    "name": "ipython",
    "version": 3
   },
   "file_extension": ".py",
   "mimetype": "text/x-python",
   "name": "python",
   "nbconvert_exporter": "python",
   "pygments_lexer": "ipython3",
   "version": "3.8.5"
  }
 },
 "nbformat": 4,
 "nbformat_minor": 5
}
